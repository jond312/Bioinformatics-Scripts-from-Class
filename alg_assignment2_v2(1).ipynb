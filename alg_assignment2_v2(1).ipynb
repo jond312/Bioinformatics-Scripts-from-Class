{
 "cells": [
  {
   "cell_type": "markdown",
   "id": "7d652856-7394-4648-83d4-eaec8c97db39",
   "metadata": {},
   "source": [
    "## <center>Algorithms and Data Structures Assignment 2<center>\n",
    "#### <center>Jon Martins<center>"
   ]
  },
  {
   "cell_type": "markdown",
   "id": "6a6e016e-bcb7-490a-9aaf-dd06279283b3",
   "metadata": {},
   "source": [
    "### Question 1"
   ]
  },
  {
   "cell_type": "code",
   "execution_count": 20,
   "id": "a1f206d5-ed6f-4214-8eff-300266efe8d5",
   "metadata": {},
   "outputs": [
    {
     "name": "stdout",
     "output_type": "stream",
     "text": [
      "Shortest path: ['AT5G49450', 'AT5G28770', 'AT2G31070', 'AT5G65210']\n"
     ]
    }
   ],
   "source": [
    "### Part 1\n",
    "\n",
    "from collections import deque # deque is downloaded from the collections module. deque is used as a queue for a breadth-first search.\n",
    "\n",
    "def load_graph(file_path): # The function load_graph(file_path) is defined. This will read the large.graph gene interaction network that is provided.\n",
    "    graph = {} # An empty \"graph\" dictionary is created.\n",
    "    with open(file_path, 'r') as file: # The with statement is used to open the large.graph file in read 'r' mode.\n",
    "        for line in file: # The for statement will allow for the following commands to be done with each line in the file.\n",
    "            gene1, gene2 = line.strip().split() # The extra spaces are deleted using .strip(). The line is split into two different gene names. gene1\n",
    "            # and gene 2.\n",
    "            if gene1 not in graph: # The if and not in statements are used in order to make sure that gene1 and gene2 exist in the graph dictionary.\n",
    "                graph[gene1] = []\n",
    "            if gene2 not in graph:\n",
    "                graph[gene2] = []\n",
    "            graph[gene1].append(gene2) # The genes are connected in the dictionary by adding edges, using .append().\n",
    "            graph[gene2].append(gene1)  \n",
    "    return graph\n",
    "\n",
    "def bfs(graph, start): # BFS is run from the start gene by defining the function as bfs(graph, start).\n",
    "# The following is defined in accordance with the pseudocode provided in the assignment.\n",
    "    color = {node: 'white' for node in graph} # The node is defined as white first as it hasn't been analyzed yet.\n",
    "    distance = {node: float('inf') for node in graph} # The shortest distance is then stored from start. Initially, it is set to infinity, which is 'inf'\n",
    "    # here.\n",
    "    parent = {node: None for node in graph} # The parent node is stored in order for the path to be corrected.\n",
    "    \n",
    "    color[start] = 'gray' # The starting gene is turned to gray to signify that the starting gene was seen but not fully processed.\n",
    "    distance[start] = 0 # The starting distance is set at 0.\n",
    "    parent[start] = None # The parent is set to none as there isn't a predecessor at the beginning.\n",
    "    \n",
    "    queue = deque([start]) # A queue is starting and the starting gene is added to this by using deque([start]).\n",
    "    \n",
    "    while queue: # The while statement is used in order to have the loop continue while nodes are in the queue.\n",
    "        u = queue.popleft() # .popleft()  is used to remove the first node, in this case defined as 'u', from the queue.\n",
    "        \n",
    "        for v in graph[u]: # The for loop is used to loop through each neighboring node (v) of the first node (u).\n",
    "            if color[v] == 'white': # The if statement is used to process any node that hasn't been processed, which would be white in this case.\n",
    "                color[v] = 'gray' # v is marked as grey when seen but not processed.\n",
    "                distance[v] = distance[u] + 1 # The distance is updated as +1 from u (starting node).\n",
    "                parent[v] = u # The path is corrected by setting u as the parent of v.\n",
    "                queue.append(v) # v is added to the queue using .append().\n",
    "        \n",
    "        color[u] = 'black' # u is then marked as 'black' in order to signify that it has been fully processed.\n",
    "    \n",
    "    return distance, parent\n",
    "\n",
    "### Part 2\n",
    "\n",
    "def shortest_path(parent, start, end): # The function to find the shortest path from start to end is defined.\n",
    "    path = []\n",
    "    while end is not None: # The while statement is used to add nodes to the path list while backtracking from the end to the beginning.\n",
    "        path.append(end)\n",
    "        end = parent[end]\n",
    "    path.reverse() # The path is reversed to start from the beginning as the previous statement reversed it. \n",
    "    return path if path[0] == start else []  # The return statement here will return a valid path if it starts with 'start' (defined previously), or else\n",
    "    # it returns an empty list.\n",
    "\n",
    "# The large.graph file is loaded from the path it is located in on the PC (for me it is in my Downloads folder).\n",
    "graph_file = 'D:/Downloads/large.graph'\n",
    "gene_network = load_graph(graph_file) # The gene.network is then set.\n",
    "\n",
    "# The BFS is run with S (starting gene) being AT5G49450 as according to the assignment.\n",
    "S = 'AT5G49450'\n",
    "distance, parent = bfs(gene_network, source\n",
    "\n",
    "# The target gene V is set to AT5G65210 as according to the assignment.\n",
    "V = 'AT5G65210'\n",
    "path = shortest_path(parent, source_gene, target_gene)\n",
    "print(\"Shortest path:\", path) # The path is then printed."
   ]
  },
  {
   "cell_type": "markdown",
   "id": "db66f9b6-0cb7-4b79-9a54-1ad2d92929fb",
   "metadata": {},
   "source": [
    "The shortest path found from the BFS search was AT5G49450 to AT5G28770 to AT2G31070 to AT5G65210."
   ]
  },
  {
   "cell_type": "markdown",
   "id": "2c7d07e0-0e6b-4424-965f-acde809f0363",
   "metadata": {},
   "source": [
    "### Question 2"
   ]
  },
  {
   "cell_type": "code",
   "execution_count": 3,
   "id": "689a08f9-5a57-4f98-923f-e018d5debc52",
   "metadata": {},
   "outputs": [
    {
     "name": "stdout",
     "output_type": "stream",
     "text": [
      "Is a cycle present? (1 for yes, 0 for no): 1\n"
     ]
    }
   ],
   "source": [
    "def detect_cycle_dfs(node, graph, visited, rec_stack): # The function is defined to perform depth-first search for cycle detenction.\n",
    "    visited[node] = True\n",
    "    rec_stack[node] = True # A recursion stack is used here in order to track the node that is being visited.\n",
    "    \n",
    "    for neighbor in graph.get(node, []): # The for statement will go through each neighboring node and ensure to not give an error by returning an empty\n",
    "        # list (node, []).\n",
    "        if not visited.get(neighbor, False): # This if not statement states to perform the depth-first search on each neighboring node that hasn't been\n",
    "            # visited yet.\n",
    "            if detect_cycle_dfs(neighbor, graph, visited, rec_stack): # The if statement will return \"True\" if a cycle is detected. \n",
    "                return True\n",
    "        elif rec_stack.get(neighbor, False): # The elif (else if) statement is used to return \"True\" if the neighboring node is already in the recursion\n",
    "            # stack, the node in the same DFS path is being revisited, thus, forming a cycle.\n",
    "            return True\n",
    "    \n",
    "    rec_stack[node] = False # The node is removed from the recursion strack to ensure that only nodes from the current DFS path is included in the stack.\n",
    "    return False\n",
    "\n",
    "def has_cycle(A, B): # A function is defined in order to determine if a graph has a cycle or not. A is the number of nodes, and B is the list of M x 2\n",
    "    # edges (M).\n",
    "    graph = {i: [] for i in range(1, A + 1)} # A list is created with each node having empty lists.\n",
    "    for edge in B:\n",
    "        graph[edge[0]].append(edge[1]) # The edges are populated into the \"graph\" list.\n",
    "    \n",
    "    visited = {} # A \"visited\" directory is created to keep track of the nodes that have been analyzed.\n",
    "    rec_stack = {} # A \"rec_stack\" directory is made to track nodes that are currently in the DFS path.\n",
    "    \n",
    "    for node in range(1, A + 1): # The for statement is used to go through each node, from 1 to A. \n",
    "        if not visited.get(node, False): # The if not statement is used in order to start a DFS on a node if it has not been visited yet.\n",
    "            if detect_cycle_dfs(node, graph, visited, rec_stack): # The if statement is used to return either a 1 for yes or 0 for no if a cycle is\n",
    "                # detected \n",
    "                return 1\n",
    "    return 0\n",
    "\n",
    "# Example input from the assignment.\n",
    "A = 5\n",
    "B = [ [1, 2], [4, 1], [2, 4], [3, 4], [5, 2], [1, 3] ]\n",
    "print(\"Is a cycle present? (1 for yes, 0 for no):\", has_cycle(A, B))"
   ]
  },
  {
   "cell_type": "markdown",
   "id": "13efb5bf-da30-4bee-9f46-eebe8fa6dffc",
   "metadata": {},
   "source": [
    "According to the DFS search, a cycle was present with the example input."
   ]
  }
 ],
 "metadata": {
  "kernelspec": {
   "display_name": "Python 3 (ipykernel)",
   "language": "python",
   "name": "python3"
  },
  "language_info": {
   "codemirror_mode": {
    "name": "ipython",
    "version": 3
   },
   "file_extension": ".py",
   "mimetype": "text/x-python",
   "name": "python",
   "nbconvert_exporter": "python",
   "pygments_lexer": "ipython3",
   "version": "3.12.4"
  }
 },
 "nbformat": 4,
 "nbformat_minor": 5
}
