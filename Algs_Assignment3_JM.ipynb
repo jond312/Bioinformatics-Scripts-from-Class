{
 "cells": [
  {
   "cell_type": "markdown",
   "metadata": {},
   "source": [
    "### <center> Algs and Data Structures Assignment 3 <center>\n",
    "##### <center> Jon Martins <center>"
   ]
  },
  {
   "cell_type": "markdown",
   "metadata": {},
   "source": [
    "### Question 1"
   ]
  },
  {
   "cell_type": "code",
   "execution_count": 1,
   "metadata": {},
   "outputs": [
    {
     "name": "stdout",
     "output_type": "stream",
     "text": [
      "Shift: 8\n",
      "Prefix: Bioinformatics\n"
     ]
    }
   ],
   "source": [
    "def string_match(String1, String2): # The function is defined to return the common prefix between the two strings.\n",
    "    def common_prefix(s1, s2): \n",
    "        prefix = [] # List is created to store matching characters.\n",
    "        for c1, c2 in zip(s1, s2): # Characters from both strings are iterated at the same time.\n",
    "            if c1 == c2:\n",
    "                prefix.append(c1) # Matching characters are added to the prefix list.\n",
    "            else:\n",
    "                break # The loop stops if there is a mismatch.\n",
    "        return \"\".join(prefix) # The list is converted to a string and then returned.\n",
    "\n",
    "    n = len(String1) # The length of String1 is retrieved and stored as n.\n",
    "    max_prefix = \"\" # The longest common prefix  found is stored.\n",
    "    min_shifts = -1 # The number of shifts that gives the max prefix is stored.\n",
    "\n",
    "    for shift in range(n): # Every possible rotation is tested of String2\n",
    "        rotated_string = String2[shift:] + String2[:shift] # String 2 is rotated.\n",
    "        current_prefix = common_prefix(rotated_string, String1) # The common prefix between the rotated String2 and String1 is calculated.\n",
    "\n",
    "        if len(current_prefix) > len(max_prefix): # The if statement updates the longest prefix length if the current prefix length is longer.\n",
    "            max_prefix = current_prefix\n",
    "            min_shifts = shift\n",
    "\n",
    "    return min_shifts, max_prefix # The minimum shifts and maximum prefix is returned\n",
    "\n",
    "String1 = \"Bioinformatics\"\n",
    "String2 = \"This is Bioinformatics\"\n",
    "shifts, prefix = string_match(String1, String2)\n",
    "print(f\"Shift: {shifts}\")\n",
    "print(f\"Prefix: {prefix}\")"
   ]
  },
  {
   "cell_type": "markdown",
   "metadata": {},
   "source": [
    "### Question 2"
   ]
  },
  {
   "cell_type": "code",
   "execution_count": 2,
   "metadata": {},
   "outputs": [
    {
     "name": "stdout",
     "output_type": "stream",
     "text": [
      "Score Matrix:\n",
      "[0, -1, -2, -3, -4, -5, -6, -7]\n",
      "[-1, 0, 0, -1, -2, -3, -4, -5]\n",
      "[-2, -1, 0, 1, 0, -1, -2, -3]\n",
      "[-3, -1, -1, 0, 1, 0, 0, -1]\n",
      "[-4, -2, 0, -1, 0, 1, 0, 1]\n",
      "[-5, -3, -1, 0, -1, 0, 1, 1]\n",
      "\n",
      "Aligned Sequences:\n",
      "-GC-AGG\n",
      "AGCTCAG\n"
     ]
    }
   ],
   "source": [
    "def needleman_wunsch(seq1, seq2, match=1, mismatch=0, gap=-1): # The needleman-wunch function is defined in order to get matches,mismatches, and gaps between sequence 1 and 2.\n",
    "    \n",
    "    m, n = len(seq1), len(seq2) # The lengths of each sequence is assigned to m and n respectively.\n",
    "    \n",
    "    score_matrix = [[0] * (n + 1) for _ in range(m + 1)] # A matrix is created as (m+1) x (n+1), initialized at 0.\n",
    "    \n",
    "    for i in range(m + 1): # the first row and column are initialized with gap penalties.\n",
    "        score_matrix[i][0] = gap * i\n",
    "    for j in range(n + 1):\n",
    "        score_matrix[0][j] = gap * j\n",
    "    \n",
    "    for i in range(1, m + 1): # The following for loop uses the match score if the characters match, oterwise it uses the mismatch score.\n",
    "        for j in range(1, n + 1):\n",
    "            if seq1[i - 1] == seq2[j - 1]:\n",
    "                diag = score_matrix[i - 1][j - 1] + match\n",
    "            else:\n",
    "                diag = score_matrix[i - 1][j - 1] + mismatch\n",
    "            up = score_matrix[i - 1][j] + gap # The score for inserting a gap in sequence 2 is calculated, when it is moving up.\n",
    "            left = score_matrix[i][j - 1] + gap # the score for inserting a gap in sequence 1 is calculated, when moving left.\n",
    "            score_matrix[i][j] = max(diag, up, left) # The highest score is then chosen and then put into the matrix.\n",
    "\n",
    "    align1 = \"\" # Empty strings are created for aligned sequences.\n",
    "    align2 = \"\"\n",
    "    i, j = m, n # The traceback is started from the bottom-right corner of the matrix, where i and j are equal to m and n.\n",
    "    \n",
    "    while i > 0 or j > 0: # The while statement will reconstruct the alignment.\n",
    "        current = score_matrix[i][j]\n",
    "        if i > 0 and j > 0: # The if statement will compute the diagonal score if it is not on the matrix boundary.\n",
    "            if seq1[i - 1] == seq2[j - 1]:\n",
    "                score_diag = score_matrix[i - 1][j - 1] + match\n",
    "            else:\n",
    "                score_diag = score_matrix[i - 1][j - 1] + mismatch\n",
    "        else:\n",
    "            score_diag = float('-inf') # The diagonal score is set to negative infinity if the algorithm is at the edge of the matrix, no longer being able to move diagonal.\n",
    "        \n",
    "        score_up = score_matrix[i - 1][j] + gap if i > 0 else float('-inf') # The score is computed when the gap is moved up in sequence 2.\n",
    "        score_left = score_matrix[i][j - 1] + gap if j > 0 else float('-inf') # The score is computed when the gap is moved left in sequence 1.\n",
    "\n",
    "        if i > 0 and j > 0 and current == score_diag: # The direction in which the score is from is checked and the alignment is built from that.\n",
    "            align1 = seq1[i - 1] + align1\n",
    "            align2 = seq2[j - 1] + align2\n",
    "            i -= 1\n",
    "            j -= 1\n",
    "        elif i > 0 and current == score_up: # The gap in sequence 2 is moved up.\n",
    "            align1 = seq1[i - 1] + align1\n",
    "            align2 = '-' + align2\n",
    "            i -= 1\n",
    "        else:\n",
    "            align1 = '-' + align1 # The gap in sequence 1 is moved left.\n",
    "            align2 = seq2[j - 1] + align2\n",
    "            j -= 1\n",
    "\n",
    "    return score_matrix, align1, align2 # The final score matrix, along with the two aligned sequenes, is returned.\n",
    "\n",
    "\n",
    "seq1 = \"GCAGG\"\n",
    "seq2 = \"AGCTCAG\"\n",
    "\n",
    "# The algorithm is run.\n",
    "matrix, aligned_seq1, aligned_seq2 = needleman_wunsch(seq1, seq2)\n",
    "\n",
    "# The matrix and final aligned sequences are printed.\n",
    "print(\"Score Matrix:\")\n",
    "for row in matrix:\n",
    "    print(row)\n",
    "print(\"\\nAligned Sequences:\")\n",
    "print(aligned_seq1)\n",
    "print(aligned_seq2)\n"
   ]
  },
  {
   "cell_type": "markdown",
   "metadata": {},
   "source": [
    "### Question 3"
   ]
  },
  {
   "cell_type": "code",
   "execution_count": 3,
   "metadata": {},
   "outputs": [
    {
     "name": "stdout",
     "output_type": "stream",
     "text": [
      "[1, 8]\n"
     ]
    }
   ],
   "source": [
    "def nucleotide_to_num(nucleotide): # The nucleotide_to_num function converts each nucleotide to a number.\n",
    "    return {'A': 0, 'C': 1, 'G': 2, 'T': 3}[nucleotide]\n",
    "\n",
    "def rabin_karp(text, pattern, d, q): # The Rabin-Karp algorithm is defined with text being the full DNA sequence, pattern being the sequence search term, d being the size,, and q being the prime number being used.\n",
    "    n = len(text)\n",
    "    m = len(pattern)\n",
    "    h = pow(d, m - 1, q) # The leftmost character in the rolling hash is removed.\n",
    "    p = 0 # p is the hash for the pattern.\n",
    "    t = 0 # t us the hash for the current window in the text.\n",
    "    result = [] # the list of matching start indicies is shown.\n",
    "\n",
    "    for i in range(m): # This for loop calculates the initial hash values for the pattern and the first sbstring of the text.\n",
    "        p = (d * p + nucleotide_to_num(pattern[i])) % q\n",
    "        t = (d * t + nucleotide_to_num(text[i])) % q\n",
    "\n",
    "    for i in range(n - m + 1): # The following loop states that if the hash of the pattern matches the hash of the current text, add the string to the results.\n",
    "        if p == t:\n",
    "            if text[i:i + m] == pattern: # Thisif statement is to double check that there is a match.\n",
    "                result.append(i)\n",
    "        if i < n - m: # This if loop is used to remove the character going out and add the character that is going in.\n",
    "            t = (d * (t - nucleotide_to_num(text[i]) * h) + nucleotide_to_num(text[i + m])) % q\n",
    "            if t < 0:\n",
    "                t += q\n",
    "\n",
    "    return result # the result is returned.\n",
    "\n",
    "text = \"AGCATGCAGCAT\"\n",
    "pattern = \"GCAT\"\n",
    "d = 4\n",
    "q = 13\n",
    "matches = rabin_karp(text, pattern, d, q)\n",
    "print(matches)"
   ]
  },
  {
   "cell_type": "code",
   "execution_count": null,
   "metadata": {},
   "outputs": [],
   "source": []
  }
 ],
 "metadata": {
  "kernelspec": {
   "display_name": "Python 3 (ipykernel)",
   "language": "python",
   "name": "python3"
  },
  "language_info": {
   "codemirror_mode": {
    "name": "ipython",
    "version": 3
   },
   "file_extension": ".py",
   "mimetype": "text/x-python",
   "name": "python",
   "nbconvert_exporter": "python",
   "pygments_lexer": "ipython3",
   "version": "3.11.0"
  }
 },
 "nbformat": 4,
 "nbformat_minor": 4
}
